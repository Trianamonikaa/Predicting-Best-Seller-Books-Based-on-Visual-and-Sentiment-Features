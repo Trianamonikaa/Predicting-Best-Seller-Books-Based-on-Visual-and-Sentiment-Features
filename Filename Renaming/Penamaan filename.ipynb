{
 "cells": [
  {
   "cell_type": "code",
   "execution_count": 10,
   "metadata": {
    "collapsed": true
   },
   "outputs": [],
   "source": [
    "from sklearn.svm import SVC\n",
    "from sklearn.cross_validation import train_test_split\n",
    "from sklearn.cross_validation import train_test_split, KFold\n",
    "from sklearn.cross_validation import cross_val_score,cross_val_predict\n",
    "from imutils import paths\n",
    "import numpy as np\n",
    "import imutils\n",
    "import os\n",
    "import pandas as pd\n",
    "import cv2\n",
    "from sklearn.metrics import confusion_matrix,accuracy_score \n",
    "from sklearn.metrics import classification_report"
   ]
  },
  {
   "cell_type": "code",
   "execution_count": 14,
   "metadata": {},
   "outputs": [],
   "source": [
    "import os\n",
    "import numpy \n",
    "folder = \"Best_Seller\"\n",
    "k = 1\n",
    "for root, dirs, filenames in os.walk(folder):\n",
    "    for filename in filenames:\n",
    "        new = 'bestseller.'+str(k)+'.jpg'\n",
    "        filename = os.path.join(root, filename)\n",
    "        nama = filename.split(\"/\")\n",
    "        namaAsli = nama[1].split(\"/\")\n",
    "        os.rename(filename, filename.replace(namaAsli[0],new))\n",
    "        k = k+1\n"
   ]
  },
  {
   "cell_type": "code",
   "execution_count": 13,
   "metadata": {},
   "outputs": [],
   "source": [
    "import os\n",
    "import numpy \n",
    "folder = \"Non_Best_Seller\"\n",
    "k = 351\n",
    "for root, dirs, filenames in os.walk(folder):\n",
    "    for filename in filenames:\n",
    "        new = 'nonbestseller.'+str(k)+'.jpg'\n",
    "        filename = os.path.join(root, filename)\n",
    "        nama = filename.split(\"/\")\n",
    "        namaAsli = nama[1].split(\"/\")\n",
    "        os.rename(filename, filename.replace(namaAsli[0],new))\n",
    "        k = k+1\n"
   ]
  }
 ],
 "metadata": {
  "kernelspec": {
   "display_name": "Python 3",
   "language": "python",
   "name": "python3"
  },
  "language_info": {
   "codemirror_mode": {
    "name": "ipython",
    "version": 3
   },
   "file_extension": ".py",
   "mimetype": "text/x-python",
   "name": "python",
   "nbconvert_exporter": "python",
   "pygments_lexer": "ipython3",
   "version": "3.6.3"
  }
 },
 "nbformat": 4,
 "nbformat_minor": 2
}
